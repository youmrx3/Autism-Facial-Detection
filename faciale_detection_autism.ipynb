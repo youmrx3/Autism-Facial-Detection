{
 "cells": [
  {
   "cell_type": "code",
   "execution_count": 2,
   "metadata": {},
   "outputs": [],
   "source": [
    "import os\n",
    "import numpy as np\n",
    "import pandas as pd\n",
    "from PIL import Image\n",
    "import matplotlib.pyplot as plt\n",
    "from glob import glob\n",
    "import torch\n",
    "import torchvision\n",
    "import torch.nn as nn\n",
    "import torch.optim as optim\n",
    "from torchvision import datasets, models, transforms\n",
    "from torch.utils.data import DataLoader,Dataset, random_split\n"
   ]
  },
  {
   "cell_type": "code",
   "execution_count": 3,
   "metadata": {},
   "outputs": [
    {
     "name": "stdout",
     "output_type": "stream",
     "text": [
      "cpu:0\n"
     ]
    }
   ],
   "source": [
    "if torch.cuda.is_available():\n",
    "    device=torch.device(type=\"cuda\",index=0)\n",
    "else:\n",
    "    device=torch.device(type=\"cpu\",index=0)\n",
    "print(device)\n"
   ]
  },
  {
   "cell_type": "code",
   "execution_count": 4,
   "metadata": {},
   "outputs": [],
   "source": [
    "class CustomDataset(Dataset):\n",
    "    def __init__(self, root, data, transformations = None):\n",
    "        \n",
    "        self.transformations = transformations\n",
    "        self.im_paths = sorted(glob(f\"{root}/{data}/*/*\"))\n",
    "        \n",
    "        self.cls_names, self.cls_counts, count, data_count = {}, {}, 0, 0\n",
    "        for idx, im_path in enumerate(self.im_paths):\n",
    "            class_name = self.get_class(im_path)\n",
    "            if class_name not in self.cls_names: \n",
    "                self.cls_names[class_name] = count\n",
    "                self.cls_counts[class_name] = 1\n",
    "                count += 1\n",
    "            else: \n",
    "                self.cls_counts[class_name] += 1\n",
    "        \n",
    "    def get_class(self, path): \n",
    "        return os.path.dirname(path).split(\"/\")[-1]\n",
    "    \n",
    "    def __len__(self): \n",
    "        return len(self.im_paths)\n",
    "\n",
    "    def __getitem__(self, idx):\n",
    "        \n",
    "        im_path = self.im_paths[idx]\n",
    "        im = Image.open(im_path).convert(\"RGB\")\n",
    "        gt = self.cls_names[self.get_class(im_path)]\n",
    "        \n",
    "        if self.transformations is not None: \n",
    "            im = self.transformations(im)\n",
    "        \n",
    "        return im, gt\n"
   ]
  },
  {
   "cell_type": "code",
   "execution_count": 5,
   "metadata": {},
   "outputs": [],
   "source": [
    "t= transforms.Compose([\n",
    "        transforms.Resize((224,224)),\n",
    "        transforms.ToTensor(),\n",
    "        transforms.Normalize([0.485, 0.456, 0.406], [0.229, 0.224, 0.225])\n",
    "    ])\n"
   ]
  },
  {
   "cell_type": "code",
   "execution_count": 6,
   "metadata": {},
   "outputs": [
    {
     "ename": "",
     "evalue": "",
     "output_type": "error",
     "traceback": [
      "\u001b[1;31mThe Kernel crashed while executing code in the current cell or a previous cell. \n",
      "\u001b[1;31mPlease review the code in the cell(s) to identify a possible cause of the failure. \n",
      "\u001b[1;31mClick <a href='https://aka.ms/vscodeJupyterKernelCrash'>here</a> for more info. \n",
      "\u001b[1;31mView Jupyter <a href='command:jupyter.viewOutput'>log</a> for further details."
     ]
    }
   ],
   "source": [
    "root =\"./archive/Facial_images_dataset_for_Autism_Detection\"\n"
   ]
  },
  {
   "cell_type": "code",
   "execution_count": 7,
   "metadata": {},
   "outputs": [
    {
     "name": "stdout",
     "output_type": "stream",
     "text": [
      "Image dimensions: 470 x 590\n"
     ]
    }
   ],
   "source": [
    "from PIL import Image\n",
    "import matplotlib.pyplot as plt\n",
    "\n",
    "# Path to the image file\n",
    "image_path = \"./archive/Facial_images_dataset_for_Autism_Detection/train/autistic/0001.jpg\"\n",
    "\n",
    "# Read the image file using PIL\n",
    "image = Image.open(image_path)\n",
    "width, height = image.size\n",
    "\n",
    "print(\"Image dimensions: {} x {}\".format(width, height))\n",
    "# Display the image using plt.imshow()\n",
    "plt.imshow(image)\n",
    "plt.show()\n"
   ]
  },
  {
   "cell_type": "code",
   "execution_count": null,
   "metadata": {},
   "outputs": [],
   "source": [
    "train_data = CustomDataset(root = root, data = \"train\", transformations = t)\n",
    "valid_data = CustomDataset(root = root, data = \"valid\",transformations = t)\n",
    "test_data = CustomDataset(root = root, data = \"test\",transformations = t)\n"
   ]
  },
  {
   "cell_type": "code",
   "execution_count": null,
   "metadata": {},
   "outputs": [],
   "source": [
    "ns=4\n",
    "bs=32\n"
   ]
  },
  {
   "cell_type": "code",
   "execution_count": null,
   "metadata": {},
   "outputs": [],
   "source": [
    "tr_dl = DataLoader(train_data, batch_size = bs, shuffle = True, num_workers = ns) \n",
    "val_dl =DataLoader(valid_data, batch_size = bs, shuffle = False, num_workers = ns)\n",
    "ts_dl=DataLoader(test_data, batch_size = 1, shuffle = False, num_workers = ns)\n"
   ]
  },
  {
   "cell_type": "code",
   "execution_count": null,
   "metadata": {},
   "outputs": [],
   "source": [
    "print(len(tr_dl)); print(len(val_dl)); print(len(ts_dl)); print(train_data.cls_names)\n"
   ]
  },
  {
   "cell_type": "code",
   "execution_count": null,
   "metadata": {},
   "outputs": [],
   "source": [
    "def denormalize(image_tensor, mean, std):\n",
    "    \"\"\"Denormalize a tensor of images.\"\"\"\n",
    "    # Clone the tensor to avoid modifying the original tensor\n",
    "    denormalized_tensor = image_tensor.clone()\n",
    "    for t, m, s in zip(denormalized_tensor, mean, std):\n",
    "        t.mul_(s).add_(m)  # Multiply by std and add mean\n",
    "    return denormalized_tensor\n",
    "\n",
    "def plot_images(dataset, num_images=5):\n",
    "    plt.figure(figsize=(15, 10))\n",
    "    for i in range(num_images):\n",
    "        image, label = dataset[i]\n",
    "        \n",
    "        mean = [0.485, 0.456, 0.406]\n",
    "        std = [0.229, 0.224, 0.225]\n",
    "        denormalized_out = denormalize(image, mean, std)\n",
    "\n",
    "        denormalized_out = denormalized_out.numpy()\n",
    "        denormalized_out = np.transpose(denormalized_out, (1, 2, 0))\n",
    "        class_name = list(dataset.cls_names.keys())[list(dataset.cls_names.values()).index(label)]\n",
    "        plt.subplot(1, num_images, i+1)\n",
    "        plt.imshow(denormalized_out)  \n",
    "        plt.title(class_name)\n",
    "        plt.axis('off')\n",
    "    plt.show()\n",
    "\n",
    "plot_images(train_data)\n"
   ]
  }
 ],
 "metadata": {
  "kernelspec": {
   "display_name": "Python 3 (ipykernel)",
   "language": "python",
   "name": "python3"
  },
  "language_info": {
   "codemirror_mode": {
    "name": "ipython",
    "version": 3
   },
   "file_extension": ".py",
   "mimetype": "text/x-python",
   "name": "python",
   "nbconvert_exporter": "python",
   "pygments_lexer": "ipython3",
   "version": "3.11.5"
  }
 },
 "nbformat": 4,
 "nbformat_minor": 4
}
